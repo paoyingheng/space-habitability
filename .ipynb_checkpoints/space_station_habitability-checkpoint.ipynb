{
 "cells": [
  {
   "cell_type": "code",
   "execution_count": null,
   "id": "4d6e351b-d470-456c-b7d8-abf4bb92d8d3",
   "metadata": {},
   "outputs": [],
   "source": [
    "# Habitability score using linear scale"
   ]
  },
  {
   "cell_type": "code",
   "execution_count": 47,
   "id": "b6bd1dd7-07cd-4297-987e-e481c5a11c63",
   "metadata": {},
   "outputs": [],
   "source": [
    "# for CO2 (pCO2 in kPa)\n",
    "def co2_score(co2):\n",
    "    if 0.04 <= co2 <= 0.4:\n",
    "        score = 10\n",
    "    elif 0.02 < co2 < 0.04:\n",
    "        return 2 + ((co2 - 0.02) / (0.04 - 0.02)) * (4 - 2)\n",
    "    elif co2 >= 3:\n",
    "        score = 0    \n",
    "    elif 0.4 < co2 < 3:\n",
    "        score = 10 - ((co2 - 0.4) * 10 / (3.0-0.4))\n",
    "    else:\n",
    "        score = 0\n",
    "    return score"
   ]
  },
  {
   "cell_type": "code",
   "execution_count": 46,
   "id": "552bdc5e-ca25-47a7-b921-9c1a01f0ba0e",
   "metadata": {},
   "outputs": [
    {
     "data": {
      "text/plain": [
       "2"
      ]
     },
     "execution_count": 46,
     "metadata": {},
     "output_type": "execute_result"
    }
   ],
   "source": []
  },
  {
   "cell_type": "code",
   "execution_count": 53,
   "id": "7be6dba9-49d8-4d6d-af58-c1570fb36ac4",
   "metadata": {},
   "outputs": [
    {
     "data": {
      "text/plain": [
       "2.1"
      ]
     },
     "execution_count": 53,
     "metadata": {},
     "output_type": "execute_result"
    }
   ],
   "source": [
    "co2_score(0.021)"
   ]
  },
  {
   "cell_type": "code",
   "execution_count": 39,
   "id": "1410a8d2-7196-4001-a546-2c0e8a228c94",
   "metadata": {},
   "outputs": [
    {
     "data": {
      "text/plain": [
       "1.9230769230769234"
      ]
     },
     "execution_count": 39,
     "metadata": {},
     "output_type": "execute_result"
    }
   ],
   "source": [
    "co2_score(2.5)"
   ]
  },
  {
   "cell_type": "code",
   "execution_count": 32,
   "id": "3ddea49f-ec89-4132-8880-cb962b9daf69",
   "metadata": {},
   "outputs": [
    {
     "data": {
      "text/plain": [
       "-11.384615384615383"
      ]
     },
     "execution_count": 32,
     "metadata": {},
     "output_type": "execute_result"
    }
   ],
   "source": [
    "10*(0.4 - 0.4 * 10 / (3.0-0.4))"
   ]
  },
  {
   "cell_type": "code",
   "execution_count": null,
   "id": "614efe06-5f78-4d22-9997-5c98ccbaa437",
   "metadata": {},
   "outputs": [],
   "source": []
  },
  {
   "cell_type": "code",
   "execution_count": null,
   "id": "682b8838-0751-4bba-b01a-7550af668480",
   "metadata": {},
   "outputs": [],
   "source": []
  },
  {
   "cell_type": "code",
   "execution_count": null,
   "id": "df5cd58c-6a32-4d23-a5ce-40e3de7ff9df",
   "metadata": {},
   "outputs": [],
   "source": []
  },
  {
   "cell_type": "code",
   "execution_count": null,
   "id": "41d172dc-c24c-4c63-9a58-5fceb8598b4e",
   "metadata": {},
   "outputs": [],
   "source": []
  },
  {
   "cell_type": "code",
   "execution_count": null,
   "id": "331d08f5-0f29-4d37-92f0-7b1758770f87",
   "metadata": {},
   "outputs": [],
   "source": []
  },
  {
   "cell_type": "code",
   "execution_count": null,
   "id": "b74e431e-20e2-429d-8918-d8e19ca665f0",
   "metadata": {},
   "outputs": [],
   "source": []
  },
  {
   "cell_type": "code",
   "execution_count": null,
   "id": "00ce7138-5f68-4d53-9509-0529f9ab0e87",
   "metadata": {},
   "outputs": [],
   "source": []
  }
 ],
 "metadata": {
  "kernelspec": {
   "display_name": "Python 3 (ipykernel)",
   "language": "python",
   "name": "python3"
  },
  "language_info": {
   "codemirror_mode": {
    "name": "ipython",
    "version": 3
   },
   "file_extension": ".py",
   "mimetype": "text/x-python",
   "name": "python",
   "nbconvert_exporter": "python",
   "pygments_lexer": "ipython3",
   "version": "3.10.12"
  }
 },
 "nbformat": 4,
 "nbformat_minor": 5
}
